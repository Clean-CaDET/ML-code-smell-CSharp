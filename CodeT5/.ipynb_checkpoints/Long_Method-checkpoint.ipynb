{
 "cells": [
  {
   "cell_type": "code",
   "execution_count": 1,
   "metadata": {},
   "outputs": [],
   "source": [
    "import pandas as pd\n",
    "import pickle\n",
    "import numpy as np\n",
    "from imblearn import combine, over_sampling, under_sampling\n",
    "from imblearn import pipeline\n",
    "from sklearn import ensemble, metrics\n",
    "pd.options.mode.chained_assignment = None"
   ]
  },
  {
   "cell_type": "code",
   "execution_count": 2,
   "metadata": {},
   "outputs": [],
   "source": [
    "#load the CodeT5 embedding dataset\n",
    "pickleFile = open(\"CodeT5_embeddings_LM.pkl\", 'rb')\n",
    "df = pickle.load(pickleFile)"
   ]
  },
  {
   "cell_type": "code",
   "execution_count": 3,
   "metadata": {},
   "outputs": [],
   "source": [
    "#load the test set from the metrics experiment so that both models are compared on the same test set\n",
    "pickleFile = open(\"../Dataset/Test_set_LM.pkl\", 'rb')\n",
    "df_test_metrics = pickle.load(pickleFile)\n",
    "\n",
    "df['name'] = df['name'].apply(lambda x: x.split('.')[0])\n",
    "\n",
    "#split the CodeT5 embedding dataset using the metric test set ids\n",
    "df_test = df.loc[df['name'].astype(int).isin(df_test_metrics.index)]\n",
    "df_train = df.iloc[~df.index.isin(df_test.index)]\n",
    "\n",
    "df_train.dropna(subset = [\"embedding\"], inplace=True)\n",
    "df_test.dropna(subset = [\"embedding\"], inplace=True)"
   ]
  },
  {
   "cell_type": "code",
   "execution_count": 4,
   "metadata": {},
   "outputs": [],
   "source": [
    "X_train = np.array([row for row in df_train['embedding']])\n",
    "y_train = np.array(df_train['label'])\n",
    "X_test = np.array([row for row in df_test['embedding']])\n",
    "y_test = np.array(df_test['label'])"
   ]
  },
  {
   "cell_type": "code",
   "execution_count": 5,
   "metadata": {},
   "outputs": [],
   "source": [
    "from sklearn.compose import ColumnTransformer\n",
    "from sklearn.preprocessing import StandardScaler\n",
    "\n",
    "std_scaler = StandardScaler()\n",
    "sc = std_scaler.fit(X_train)\n",
    "X_train = sc.transform(X_train)\n",
    "X_test= sc.transform(X_test)"
   ]
  },
  {
   "cell_type": "code",
   "execution_count": 6,
   "metadata": {},
   "outputs": [],
   "source": [
    "rf = ensemble.RandomForestClassifier(\n",
    "    n_estimators=140,\n",
    "    max_features=\"auto\",\n",
    "    min_samples_split=8,\n",
    "    min_samples_leaf=1,\n",
    "    bootstrap=False,\n",
    "    criterion=\"gini\",\n",
    "    random_state=42,\n",
    "    n_jobs=-1\n",
    ")\n",
    "\n",
    "sampler = combine.SMOTEENN(\n",
    "    random_state=42,\n",
    "    smote=over_sampling.SMOTE(\n",
    "        sampling_strategy=0.5,\n",
    "        random_state=42),\n",
    "    enn=under_sampling.EditedNearestNeighbours(\n",
    "        sampling_strategy=\"majority\",\n",
    "        kind_sel=\"mode\"\n",
    "    )\n",
    ")\n",
    "\n",
    "best_model = pipeline.make_pipeline(\n",
    "    sampler,\n",
    "    rf\n",
    ")\n",
    "\n",
    "best_model = best_model.fit(X_train,y_train)"
   ]
  },
  {
   "cell_type": "code",
   "execution_count": 7,
   "metadata": {},
   "outputs": [
    {
     "name": "stdout",
     "output_type": "stream",
     "text": [
      "\n",
      "Test metrics\n",
      "Test report: \n",
      "               precision    recall  f1-score   support\n",
      "\n",
      "           0       0.95      0.93      0.94       382\n",
      "           1       0.81      0.87      0.84       133\n",
      "\n",
      "    accuracy                           0.91       515\n",
      "   macro avg       0.88      0.90      0.89       515\n",
      "weighted avg       0.92      0.91      0.91       515\n",
      "\n"
     ]
    }
   ],
   "source": [
    "y_pred = best_model.predict(X_test)\n",
    "\n",
    "print(\"\\nTest metrics\")\n",
    "print(\"Test report: \\n\", metrics.classification_report(y_test, y_pred))"
   ]
  }
 ],
 "metadata": {
  "kernelspec": {
   "display_name": "Python 3 (ipykernel)",
   "language": "python",
   "name": "python3"
  },
  "language_info": {
   "codemirror_mode": {
    "name": "ipython",
    "version": 3
   },
   "file_extension": ".py",
   "mimetype": "text/x-python",
   "name": "python",
   "nbconvert_exporter": "python",
   "pygments_lexer": "ipython3",
   "version": "3.8.5"
  }
 },
 "nbformat": 4,
 "nbformat_minor": 4
}
